{
 "cells": [
  {
   "cell_type": "markdown",
   "id": "62712e7d",
   "metadata": {},
   "source": [
    "## Import Libraries"
   ]
  },
  {
   "cell_type": "code",
   "execution_count": 129,
   "id": "3893499c",
   "metadata": {},
   "outputs": [],
   "source": [
    "import pandas as pd\n",
    "import numpy as np\n",
    "import seaborn as sns\n",
    "import matplotlib.pyplot as plt"
   ]
  },
  {
   "cell_type": "markdown",
   "id": "66b399c4",
   "metadata": {},
   "source": [
    "- transactions_id: Unique identifier for each transaction\n",
    "- sale_date: Date of the sale\n",
    "- sale_time: Time of the sale\n",
    "- customer_id: Unique identifier for each customer\n",
    "- gender: Gender of the customer\n",
    "- age: Age of the customer\n",
    "- category: Product category (e.g., Clothing, Beauty)\n",
    "- quantiy: Quantity of the product purchased\n",
    "- price_per_unit: Price per unit of the product\n",
    "- cogs: Cost of goods sold\n",
    "- total_sale: Total sales amount"
   ]
  },
  {
   "cell_type": "markdown",
   "id": "f3214b59",
   "metadata": {},
   "source": [
    "## Load Data"
   ]
  },
  {
   "cell_type": "code",
   "execution_count": 130,
   "id": "abbd9e2b",
   "metadata": {},
   "outputs": [
    {
     "data": {
      "text/html": [
       "<div>\n",
       "<style scoped>\n",
       "    .dataframe tbody tr th:only-of-type {\n",
       "        vertical-align: middle;\n",
       "    }\n",
       "\n",
       "    .dataframe tbody tr th {\n",
       "        vertical-align: top;\n",
       "    }\n",
       "\n",
       "    .dataframe thead th {\n",
       "        text-align: right;\n",
       "    }\n",
       "</style>\n",
       "<table border=\"1\" class=\"dataframe\">\n",
       "  <thead>\n",
       "    <tr style=\"text-align: right;\">\n",
       "      <th></th>\n",
       "      <th>transactions_id</th>\n",
       "      <th>sale_date</th>\n",
       "      <th>sale_time</th>\n",
       "      <th>customer_id</th>\n",
       "      <th>gender</th>\n",
       "      <th>age</th>\n",
       "      <th>category</th>\n",
       "      <th>quantiy</th>\n",
       "      <th>price_per_unit</th>\n",
       "      <th>cogs</th>\n",
       "      <th>total_sale</th>\n",
       "    </tr>\n",
       "  </thead>\n",
       "  <tbody>\n",
       "    <tr>\n",
       "      <th>0</th>\n",
       "      <td>180</td>\n",
       "      <td>2022-11-05</td>\n",
       "      <td>10:47:00</td>\n",
       "      <td>117</td>\n",
       "      <td>Male</td>\n",
       "      <td>41.0</td>\n",
       "      <td>Clothing</td>\n",
       "      <td>3.0</td>\n",
       "      <td>300.0</td>\n",
       "      <td>129.0</td>\n",
       "      <td>900.0</td>\n",
       "    </tr>\n",
       "    <tr>\n",
       "      <th>1</th>\n",
       "      <td>522</td>\n",
       "      <td>2022-07-09</td>\n",
       "      <td>11:00:00</td>\n",
       "      <td>52</td>\n",
       "      <td>Male</td>\n",
       "      <td>46.0</td>\n",
       "      <td>Beauty</td>\n",
       "      <td>3.0</td>\n",
       "      <td>500.0</td>\n",
       "      <td>145.0</td>\n",
       "      <td>1500.0</td>\n",
       "    </tr>\n",
       "    <tr>\n",
       "      <th>2</th>\n",
       "      <td>559</td>\n",
       "      <td>2022-12-12</td>\n",
       "      <td>10:48:00</td>\n",
       "      <td>5</td>\n",
       "      <td>Female</td>\n",
       "      <td>40.0</td>\n",
       "      <td>Clothing</td>\n",
       "      <td>4.0</td>\n",
       "      <td>300.0</td>\n",
       "      <td>84.0</td>\n",
       "      <td>1200.0</td>\n",
       "    </tr>\n",
       "    <tr>\n",
       "      <th>3</th>\n",
       "      <td>1180</td>\n",
       "      <td>2022-01-06</td>\n",
       "      <td>08:53:00</td>\n",
       "      <td>85</td>\n",
       "      <td>Male</td>\n",
       "      <td>41.0</td>\n",
       "      <td>Clothing</td>\n",
       "      <td>3.0</td>\n",
       "      <td>300.0</td>\n",
       "      <td>129.0</td>\n",
       "      <td>900.0</td>\n",
       "    </tr>\n",
       "    <tr>\n",
       "      <th>4</th>\n",
       "      <td>1522</td>\n",
       "      <td>2022-11-14</td>\n",
       "      <td>08:35:00</td>\n",
       "      <td>48</td>\n",
       "      <td>Male</td>\n",
       "      <td>46.0</td>\n",
       "      <td>Beauty</td>\n",
       "      <td>3.0</td>\n",
       "      <td>500.0</td>\n",
       "      <td>235.0</td>\n",
       "      <td>1500.0</td>\n",
       "    </tr>\n",
       "  </tbody>\n",
       "</table>\n",
       "</div>"
      ],
      "text/plain": [
       "   transactions_id   sale_date sale_time  customer_id  gender   age  category  \\\n",
       "0              180  2022-11-05  10:47:00          117    Male  41.0  Clothing   \n",
       "1              522  2022-07-09  11:00:00           52    Male  46.0    Beauty   \n",
       "2              559  2022-12-12  10:48:00            5  Female  40.0  Clothing   \n",
       "3             1180  2022-01-06  08:53:00           85    Male  41.0  Clothing   \n",
       "4             1522  2022-11-14  08:35:00           48    Male  46.0    Beauty   \n",
       "\n",
       "   quantiy  price_per_unit   cogs  total_sale  \n",
       "0      3.0           300.0  129.0       900.0  \n",
       "1      3.0           500.0  145.0      1500.0  \n",
       "2      4.0           300.0   84.0      1200.0  \n",
       "3      3.0           300.0  129.0       900.0  \n",
       "4      3.0           500.0  235.0      1500.0  "
      ]
     },
     "execution_count": 130,
     "metadata": {},
     "output_type": "execute_result"
    }
   ],
   "source": [
    "df = pd.read_csv(\"Retail Sales Analysis.csv\")\n",
    "df.head()"
   ]
  },
  {
   "cell_type": "code",
   "execution_count": 131,
   "id": "a44afa87",
   "metadata": {},
   "outputs": [
    {
     "data": {
      "text/html": [
       "<div>\n",
       "<style scoped>\n",
       "    .dataframe tbody tr th:only-of-type {\n",
       "        vertical-align: middle;\n",
       "    }\n",
       "\n",
       "    .dataframe tbody tr th {\n",
       "        vertical-align: top;\n",
       "    }\n",
       "\n",
       "    .dataframe thead th {\n",
       "        text-align: right;\n",
       "    }\n",
       "</style>\n",
       "<table border=\"1\" class=\"dataframe\">\n",
       "  <thead>\n",
       "    <tr style=\"text-align: right;\">\n",
       "      <th></th>\n",
       "      <th>transactions_id</th>\n",
       "      <th>sale_date</th>\n",
       "      <th>sale_time</th>\n",
       "      <th>customer_id</th>\n",
       "      <th>gender</th>\n",
       "      <th>age</th>\n",
       "      <th>category</th>\n",
       "      <th>quantiy</th>\n",
       "      <th>price_per_unit</th>\n",
       "      <th>cogs</th>\n",
       "      <th>total_sale</th>\n",
       "    </tr>\n",
       "  </thead>\n",
       "  <tbody>\n",
       "    <tr>\n",
       "      <th>1995</th>\n",
       "      <td>1857</td>\n",
       "      <td>2022-11-09</td>\n",
       "      <td>12:15:00</td>\n",
       "      <td>109</td>\n",
       "      <td>Male</td>\n",
       "      <td>60.0</td>\n",
       "      <td>Electronics</td>\n",
       "      <td>2.0</td>\n",
       "      <td>25.0</td>\n",
       "      <td>7.5</td>\n",
       "      <td>50.0</td>\n",
       "    </tr>\n",
       "    <tr>\n",
       "      <th>1996</th>\n",
       "      <td>211</td>\n",
       "      <td>2022-09-12</td>\n",
       "      <td>14:02:00</td>\n",
       "      <td>54</td>\n",
       "      <td>Male</td>\n",
       "      <td>42.0</td>\n",
       "      <td>Beauty</td>\n",
       "      <td>3.0</td>\n",
       "      <td>500.0</td>\n",
       "      <td>235.0</td>\n",
       "      <td>1500.0</td>\n",
       "    </tr>\n",
       "    <tr>\n",
       "      <th>1997</th>\n",
       "      <td>650</td>\n",
       "      <td>2023-10-08</td>\n",
       "      <td>12:41:00</td>\n",
       "      <td>98</td>\n",
       "      <td>Male</td>\n",
       "      <td>55.0</td>\n",
       "      <td>Electronics</td>\n",
       "      <td>1.0</td>\n",
       "      <td>30.0</td>\n",
       "      <td>15.0</td>\n",
       "      <td>30.0</td>\n",
       "    </tr>\n",
       "    <tr>\n",
       "      <th>1998</th>\n",
       "      <td>1211</td>\n",
       "      <td>2023-11-22</td>\n",
       "      <td>14:59:00</td>\n",
       "      <td>82</td>\n",
       "      <td>Male</td>\n",
       "      <td>42.0</td>\n",
       "      <td>Beauty</td>\n",
       "      <td>3.0</td>\n",
       "      <td>500.0</td>\n",
       "      <td>235.0</td>\n",
       "      <td>1500.0</td>\n",
       "    </tr>\n",
       "    <tr>\n",
       "      <th>1999</th>\n",
       "      <td>1650</td>\n",
       "      <td>2022-09-23</td>\n",
       "      <td>16:24:00</td>\n",
       "      <td>89</td>\n",
       "      <td>Male</td>\n",
       "      <td>55.0</td>\n",
       "      <td>Electronics</td>\n",
       "      <td>1.0</td>\n",
       "      <td>30.0</td>\n",
       "      <td>10.8</td>\n",
       "      <td>30.0</td>\n",
       "    </tr>\n",
       "  </tbody>\n",
       "</table>\n",
       "</div>"
      ],
      "text/plain": [
       "      transactions_id   sale_date sale_time  customer_id gender   age  \\\n",
       "1995             1857  2022-11-09  12:15:00          109   Male  60.0   \n",
       "1996              211  2022-09-12  14:02:00           54   Male  42.0   \n",
       "1997              650  2023-10-08  12:41:00           98   Male  55.0   \n",
       "1998             1211  2023-11-22  14:59:00           82   Male  42.0   \n",
       "1999             1650  2022-09-23  16:24:00           89   Male  55.0   \n",
       "\n",
       "         category  quantiy  price_per_unit   cogs  total_sale  \n",
       "1995  Electronics      2.0            25.0    7.5        50.0  \n",
       "1996       Beauty      3.0           500.0  235.0      1500.0  \n",
       "1997  Electronics      1.0            30.0   15.0        30.0  \n",
       "1998       Beauty      3.0           500.0  235.0      1500.0  \n",
       "1999  Electronics      1.0            30.0   10.8        30.0  "
      ]
     },
     "execution_count": 131,
     "metadata": {},
     "output_type": "execute_result"
    }
   ],
   "source": [
    "df.tail()"
   ]
  },
  {
   "cell_type": "code",
   "execution_count": 132,
   "id": "f7c1e34e",
   "metadata": {},
   "outputs": [
    {
     "data": {
      "text/html": [
       "<div>\n",
       "<style scoped>\n",
       "    .dataframe tbody tr th:only-of-type {\n",
       "        vertical-align: middle;\n",
       "    }\n",
       "\n",
       "    .dataframe tbody tr th {\n",
       "        vertical-align: top;\n",
       "    }\n",
       "\n",
       "    .dataframe thead th {\n",
       "        text-align: right;\n",
       "    }\n",
       "</style>\n",
       "<table border=\"1\" class=\"dataframe\">\n",
       "  <thead>\n",
       "    <tr style=\"text-align: right;\">\n",
       "      <th></th>\n",
       "      <th>transactions_id</th>\n",
       "      <th>customer_id</th>\n",
       "      <th>age</th>\n",
       "      <th>quantiy</th>\n",
       "      <th>price_per_unit</th>\n",
       "      <th>cogs</th>\n",
       "      <th>total_sale</th>\n",
       "    </tr>\n",
       "  </thead>\n",
       "  <tbody>\n",
       "    <tr>\n",
       "      <th>count</th>\n",
       "      <td>2000.000000</td>\n",
       "      <td>2000.000000</td>\n",
       "      <td>1990.000000</td>\n",
       "      <td>1997.000000</td>\n",
       "      <td>1997.000000</td>\n",
       "      <td>1997.000000</td>\n",
       "      <td>1997.000000</td>\n",
       "    </tr>\n",
       "    <tr>\n",
       "      <th>mean</th>\n",
       "      <td>1000.500000</td>\n",
       "      <td>66.341500</td>\n",
       "      <td>41.343216</td>\n",
       "      <td>2.512769</td>\n",
       "      <td>180.117677</td>\n",
       "      <td>95.023886</td>\n",
       "      <td>456.544817</td>\n",
       "    </tr>\n",
       "    <tr>\n",
       "      <th>std</th>\n",
       "      <td>577.494589</td>\n",
       "      <td>44.937185</td>\n",
       "      <td>13.668167</td>\n",
       "      <td>1.132708</td>\n",
       "      <td>189.685225</td>\n",
       "      <td>121.898695</td>\n",
       "      <td>560.101381</td>\n",
       "    </tr>\n",
       "    <tr>\n",
       "      <th>min</th>\n",
       "      <td>1.000000</td>\n",
       "      <td>1.000000</td>\n",
       "      <td>18.000000</td>\n",
       "      <td>1.000000</td>\n",
       "      <td>25.000000</td>\n",
       "      <td>6.250000</td>\n",
       "      <td>25.000000</td>\n",
       "    </tr>\n",
       "    <tr>\n",
       "      <th>25%</th>\n",
       "      <td>500.750000</td>\n",
       "      <td>24.000000</td>\n",
       "      <td>29.000000</td>\n",
       "      <td>1.000000</td>\n",
       "      <td>30.000000</td>\n",
       "      <td>13.000000</td>\n",
       "      <td>60.000000</td>\n",
       "    </tr>\n",
       "    <tr>\n",
       "      <th>50%</th>\n",
       "      <td>1000.500000</td>\n",
       "      <td>69.000000</td>\n",
       "      <td>42.000000</td>\n",
       "      <td>3.000000</td>\n",
       "      <td>50.000000</td>\n",
       "      <td>27.500000</td>\n",
       "      <td>150.000000</td>\n",
       "    </tr>\n",
       "    <tr>\n",
       "      <th>75%</th>\n",
       "      <td>1500.250000</td>\n",
       "      <td>102.000000</td>\n",
       "      <td>53.000000</td>\n",
       "      <td>4.000000</td>\n",
       "      <td>300.000000</td>\n",
       "      <td>147.000000</td>\n",
       "      <td>900.000000</td>\n",
       "    </tr>\n",
       "    <tr>\n",
       "      <th>max</th>\n",
       "      <td>2000.000000</td>\n",
       "      <td>155.000000</td>\n",
       "      <td>64.000000</td>\n",
       "      <td>4.000000</td>\n",
       "      <td>500.000000</td>\n",
       "      <td>620.000000</td>\n",
       "      <td>2000.000000</td>\n",
       "    </tr>\n",
       "  </tbody>\n",
       "</table>\n",
       "</div>"
      ],
      "text/plain": [
       "       transactions_id  customer_id          age      quantiy  price_per_unit  \\\n",
       "count      2000.000000  2000.000000  1990.000000  1997.000000     1997.000000   \n",
       "mean       1000.500000    66.341500    41.343216     2.512769      180.117677   \n",
       "std         577.494589    44.937185    13.668167     1.132708      189.685225   \n",
       "min           1.000000     1.000000    18.000000     1.000000       25.000000   \n",
       "25%         500.750000    24.000000    29.000000     1.000000       30.000000   \n",
       "50%        1000.500000    69.000000    42.000000     3.000000       50.000000   \n",
       "75%        1500.250000   102.000000    53.000000     4.000000      300.000000   \n",
       "max        2000.000000   155.000000    64.000000     4.000000      500.000000   \n",
       "\n",
       "              cogs   total_sale  \n",
       "count  1997.000000  1997.000000  \n",
       "mean     95.023886   456.544817  \n",
       "std     121.898695   560.101381  \n",
       "min       6.250000    25.000000  \n",
       "25%      13.000000    60.000000  \n",
       "50%      27.500000   150.000000  \n",
       "75%     147.000000   900.000000  \n",
       "max     620.000000  2000.000000  "
      ]
     },
     "execution_count": 132,
     "metadata": {},
     "output_type": "execute_result"
    }
   ],
   "source": [
    "df.describe()"
   ]
  },
  {
   "cell_type": "markdown",
   "id": "5bc76814",
   "metadata": {},
   "source": [
    "## Data Cleansing"
   ]
  },
  {
   "cell_type": "code",
   "execution_count": 133,
   "id": "a1ea687d",
   "metadata": {},
   "outputs": [
    {
     "data": {
      "text/plain": [
       "Index(['transactions_id', 'sale_date', 'sale_time', 'customer_id', 'gender',\n",
       "       'age', 'category', 'quantiy', 'price_per_unit', 'cogs', 'total_sale'],\n",
       "      dtype='object')"
      ]
     },
     "execution_count": 133,
     "metadata": {},
     "output_type": "execute_result"
    }
   ],
   "source": [
    "df.columns"
   ]
  },
  {
   "cell_type": "code",
   "execution_count": 134,
   "id": "a7269e20",
   "metadata": {},
   "outputs": [
    {
     "name": "stdout",
     "output_type": "stream",
     "text": [
      "<class 'pandas.core.frame.DataFrame'>\n",
      "RangeIndex: 2000 entries, 0 to 1999\n",
      "Data columns (total 11 columns):\n",
      " #   Column           Non-Null Count  Dtype  \n",
      "---  ------           --------------  -----  \n",
      " 0   transactions_id  2000 non-null   int64  \n",
      " 1   sale_date        2000 non-null   object \n",
      " 2   sale_time        2000 non-null   object \n",
      " 3   customer_id      2000 non-null   int64  \n",
      " 4   gender           2000 non-null   object \n",
      " 5   age              1990 non-null   float64\n",
      " 6   category         2000 non-null   object \n",
      " 7   quantiy          1997 non-null   float64\n",
      " 8   price_per_unit   1997 non-null   float64\n",
      " 9   cogs             1997 non-null   float64\n",
      " 10  total_sale       1997 non-null   float64\n",
      "dtypes: float64(5), int64(2), object(4)\n",
      "memory usage: 172.0+ KB\n"
     ]
    }
   ],
   "source": [
    "df.info()"
   ]
  },
  {
   "cell_type": "code",
   "execution_count": 135,
   "id": "49b82769",
   "metadata": {},
   "outputs": [
    {
     "data": {
      "text/plain": [
       "(2000, 11)"
      ]
     },
     "execution_count": 135,
     "metadata": {},
     "output_type": "execute_result"
    }
   ],
   "source": [
    "df.shape"
   ]
  },
  {
   "cell_type": "code",
   "execution_count": 136,
   "id": "28aa66fc",
   "metadata": {},
   "outputs": [
    {
     "data": {
      "text/html": [
       "<div>\n",
       "<style scoped>\n",
       "    .dataframe tbody tr th:only-of-type {\n",
       "        vertical-align: middle;\n",
       "    }\n",
       "\n",
       "    .dataframe tbody tr th {\n",
       "        vertical-align: top;\n",
       "    }\n",
       "\n",
       "    .dataframe thead th {\n",
       "        text-align: right;\n",
       "    }\n",
       "</style>\n",
       "<table border=\"1\" class=\"dataframe\">\n",
       "  <thead>\n",
       "    <tr style=\"text-align: right;\">\n",
       "      <th></th>\n",
       "      <th>Column</th>\n",
       "      <th>Missing values</th>\n",
       "      <th>Unique values</th>\n",
       "      <th>Data type</th>\n",
       "    </tr>\n",
       "  </thead>\n",
       "  <tbody>\n",
       "    <tr>\n",
       "      <th>0</th>\n",
       "      <td>transactions_id</td>\n",
       "      <td>0</td>\n",
       "      <td>2000</td>\n",
       "      <td>int64</td>\n",
       "    </tr>\n",
       "    <tr>\n",
       "      <th>1</th>\n",
       "      <td>sale_date</td>\n",
       "      <td>0</td>\n",
       "      <td>647</td>\n",
       "      <td>object</td>\n",
       "    </tr>\n",
       "    <tr>\n",
       "      <th>2</th>\n",
       "      <td>sale_time</td>\n",
       "      <td>0</td>\n",
       "      <td>766</td>\n",
       "      <td>object</td>\n",
       "    </tr>\n",
       "    <tr>\n",
       "      <th>3</th>\n",
       "      <td>customer_id</td>\n",
       "      <td>0</td>\n",
       "      <td>155</td>\n",
       "      <td>int64</td>\n",
       "    </tr>\n",
       "    <tr>\n",
       "      <th>4</th>\n",
       "      <td>gender</td>\n",
       "      <td>0</td>\n",
       "      <td>2</td>\n",
       "      <td>object</td>\n",
       "    </tr>\n",
       "    <tr>\n",
       "      <th>5</th>\n",
       "      <td>age</td>\n",
       "      <td>10</td>\n",
       "      <td>47</td>\n",
       "      <td>float64</td>\n",
       "    </tr>\n",
       "    <tr>\n",
       "      <th>6</th>\n",
       "      <td>category</td>\n",
       "      <td>0</td>\n",
       "      <td>3</td>\n",
       "      <td>object</td>\n",
       "    </tr>\n",
       "    <tr>\n",
       "      <th>7</th>\n",
       "      <td>quantiy</td>\n",
       "      <td>3</td>\n",
       "      <td>4</td>\n",
       "      <td>float64</td>\n",
       "    </tr>\n",
       "    <tr>\n",
       "      <th>8</th>\n",
       "      <td>price_per_unit</td>\n",
       "      <td>3</td>\n",
       "      <td>5</td>\n",
       "      <td>float64</td>\n",
       "    </tr>\n",
       "    <tr>\n",
       "      <th>9</th>\n",
       "      <td>cogs</td>\n",
       "      <td>3</td>\n",
       "      <td>276</td>\n",
       "      <td>float64</td>\n",
       "    </tr>\n",
       "    <tr>\n",
       "      <th>10</th>\n",
       "      <td>total_sale</td>\n",
       "      <td>3</td>\n",
       "      <td>18</td>\n",
       "      <td>float64</td>\n",
       "    </tr>\n",
       "  </tbody>\n",
       "</table>\n",
       "</div>"
      ],
      "text/plain": [
       "             Column  Missing values  Unique values Data type\n",
       "0   transactions_id               0           2000     int64\n",
       "1         sale_date               0            647    object\n",
       "2         sale_time               0            766    object\n",
       "3       customer_id               0            155     int64\n",
       "4            gender               0              2    object\n",
       "5               age              10             47   float64\n",
       "6          category               0              3    object\n",
       "7           quantiy               3              4   float64\n",
       "8    price_per_unit               3              5   float64\n",
       "9              cogs               3            276   float64\n",
       "10       total_sale               3             18   float64"
      ]
     },
     "execution_count": 136,
     "metadata": {},
     "output_type": "execute_result"
    }
   ],
   "source": [
    "col_summary = pd.DataFrame(df.columns, columns = ['Column'])\n",
    "na_list = []\n",
    "unique_list = []\n",
    "dtype_list = []\n",
    "\n",
    "for col in df.columns:\n",
    "    na_list.append(df[col].isna().sum())\n",
    "    unique_list.append(df[col].nunique())\n",
    "    dtype_list.append(df[col].dtype)\n",
    "\n",
    "col_summary['Missing values'] = na_list\n",
    "col_summary['Unique values'] = unique_list\n",
    "col_summary['Data type'] = dtype_list\n",
    "col_summary"
   ]
  },
  {
   "cell_type": "code",
   "execution_count": 137,
   "id": "5260fbd7",
   "metadata": {},
   "outputs": [],
   "source": [
    "#drop missing value\n",
    "df = df.dropna()"
   ]
  },
  {
   "cell_type": "code",
   "execution_count": 138,
   "id": "e5321d68",
   "metadata": {},
   "outputs": [
    {
     "data": {
      "text/plain": [
       "0"
      ]
     },
     "execution_count": 138,
     "metadata": {},
     "output_type": "execute_result"
    }
   ],
   "source": [
    "#number of duplicated data\n",
    "df.duplicated().sum()"
   ]
  },
  {
   "cell_type": "code",
   "execution_count": 139,
   "id": "0569d3f0",
   "metadata": {},
   "outputs": [
    {
     "data": {
      "text/plain": [
       "transactions_id    0\n",
       "sale_date          0\n",
       "sale_time          0\n",
       "customer_id        0\n",
       "gender             0\n",
       "age                0\n",
       "category           0\n",
       "quantiy            0\n",
       "price_per_unit     0\n",
       "cogs               0\n",
       "total_sale         0\n",
       "dtype: int64"
      ]
     },
     "execution_count": 139,
     "metadata": {},
     "output_type": "execute_result"
    }
   ],
   "source": [
    "df.isna().sum()"
   ]
  },
  {
   "cell_type": "code",
   "execution_count": 140,
   "id": "1c218d2b",
   "metadata": {},
   "outputs": [],
   "source": [
    "df.drop(columns=['sale_time'], inplace=True)"
   ]
  },
  {
   "cell_type": "code",
   "execution_count": 141,
   "id": "d68ed85e",
   "metadata": {},
   "outputs": [],
   "source": [
    "df['sale_date'] = pd.to_datetime(df['sale_date'])"
   ]
  },
  {
   "cell_type": "code",
   "execution_count": 142,
   "id": "89fc0bc0",
   "metadata": {},
   "outputs": [],
   "source": [
    "df['age'] = df['age'].astype(int)\n",
    "df['quantiy'] = df['quantiy'].astype(int)"
   ]
  },
  {
   "cell_type": "code",
   "execution_count": 143,
   "id": "18a26d71",
   "metadata": {},
   "outputs": [],
   "source": [
    "df['profit'] = df['total_sale'] - (df['quantiy'] * df['cogs'])"
   ]
  },
  {
   "cell_type": "code",
   "execution_count": 144,
   "id": "88af31be",
   "metadata": {},
   "outputs": [
    {
     "data": {
      "text/html": [
       "<div>\n",
       "<style scoped>\n",
       "    .dataframe tbody tr th:only-of-type {\n",
       "        vertical-align: middle;\n",
       "    }\n",
       "\n",
       "    .dataframe tbody tr th {\n",
       "        vertical-align: top;\n",
       "    }\n",
       "\n",
       "    .dataframe thead th {\n",
       "        text-align: right;\n",
       "    }\n",
       "</style>\n",
       "<table border=\"1\" class=\"dataframe\">\n",
       "  <thead>\n",
       "    <tr style=\"text-align: right;\">\n",
       "      <th></th>\n",
       "      <th>transactions_id</th>\n",
       "      <th>sale_date</th>\n",
       "      <th>customer_id</th>\n",
       "      <th>gender</th>\n",
       "      <th>age</th>\n",
       "      <th>category</th>\n",
       "      <th>quantiy</th>\n",
       "      <th>price_per_unit</th>\n",
       "      <th>cogs</th>\n",
       "      <th>total_sale</th>\n",
       "      <th>profit</th>\n",
       "      <th>sale_year</th>\n",
       "      <th>sale_month</th>\n",
       "    </tr>\n",
       "  </thead>\n",
       "  <tbody>\n",
       "    <tr>\n",
       "      <th>0</th>\n",
       "      <td>180</td>\n",
       "      <td>2022-11-05</td>\n",
       "      <td>117</td>\n",
       "      <td>Male</td>\n",
       "      <td>41</td>\n",
       "      <td>Clothing</td>\n",
       "      <td>3</td>\n",
       "      <td>300.0</td>\n",
       "      <td>129.0</td>\n",
       "      <td>900.0</td>\n",
       "      <td>513.0</td>\n",
       "      <td>2022</td>\n",
       "      <td>2022-11</td>\n",
       "    </tr>\n",
       "    <tr>\n",
       "      <th>1</th>\n",
       "      <td>522</td>\n",
       "      <td>2022-07-09</td>\n",
       "      <td>52</td>\n",
       "      <td>Male</td>\n",
       "      <td>46</td>\n",
       "      <td>Beauty</td>\n",
       "      <td>3</td>\n",
       "      <td>500.0</td>\n",
       "      <td>145.0</td>\n",
       "      <td>1500.0</td>\n",
       "      <td>1065.0</td>\n",
       "      <td>2022</td>\n",
       "      <td>2022-07</td>\n",
       "    </tr>\n",
       "    <tr>\n",
       "      <th>2</th>\n",
       "      <td>559</td>\n",
       "      <td>2022-12-12</td>\n",
       "      <td>5</td>\n",
       "      <td>Female</td>\n",
       "      <td>40</td>\n",
       "      <td>Clothing</td>\n",
       "      <td>4</td>\n",
       "      <td>300.0</td>\n",
       "      <td>84.0</td>\n",
       "      <td>1200.0</td>\n",
       "      <td>864.0</td>\n",
       "      <td>2022</td>\n",
       "      <td>2022-12</td>\n",
       "    </tr>\n",
       "    <tr>\n",
       "      <th>3</th>\n",
       "      <td>1180</td>\n",
       "      <td>2022-01-06</td>\n",
       "      <td>85</td>\n",
       "      <td>Male</td>\n",
       "      <td>41</td>\n",
       "      <td>Clothing</td>\n",
       "      <td>3</td>\n",
       "      <td>300.0</td>\n",
       "      <td>129.0</td>\n",
       "      <td>900.0</td>\n",
       "      <td>513.0</td>\n",
       "      <td>2022</td>\n",
       "      <td>2022-01</td>\n",
       "    </tr>\n",
       "    <tr>\n",
       "      <th>4</th>\n",
       "      <td>1522</td>\n",
       "      <td>2022-11-14</td>\n",
       "      <td>48</td>\n",
       "      <td>Male</td>\n",
       "      <td>46</td>\n",
       "      <td>Beauty</td>\n",
       "      <td>3</td>\n",
       "      <td>500.0</td>\n",
       "      <td>235.0</td>\n",
       "      <td>1500.0</td>\n",
       "      <td>795.0</td>\n",
       "      <td>2022</td>\n",
       "      <td>2022-11</td>\n",
       "    </tr>\n",
       "  </tbody>\n",
       "</table>\n",
       "</div>"
      ],
      "text/plain": [
       "   transactions_id  sale_date  customer_id  gender  age  category  quantiy  \\\n",
       "0              180 2022-11-05          117    Male   41  Clothing        3   \n",
       "1              522 2022-07-09           52    Male   46    Beauty        3   \n",
       "2              559 2022-12-12            5  Female   40  Clothing        4   \n",
       "3             1180 2022-01-06           85    Male   41  Clothing        3   \n",
       "4             1522 2022-11-14           48    Male   46    Beauty        3   \n",
       "\n",
       "   price_per_unit   cogs  total_sale  profit sale_year sale_month  \n",
       "0           300.0  129.0       900.0   513.0      2022    2022-11  \n",
       "1           500.0  145.0      1500.0  1065.0      2022    2022-07  \n",
       "2           300.0   84.0      1200.0   864.0      2022    2022-12  \n",
       "3           300.0  129.0       900.0   513.0      2022    2022-01  \n",
       "4           500.0  235.0      1500.0   795.0      2022    2022-11  "
      ]
     },
     "execution_count": 144,
     "metadata": {},
     "output_type": "execute_result"
    }
   ],
   "source": [
    "df['sale_year'] = df['sale_date'].dt.to_period('Y')\n",
    "df['sale_month'] = df['sale_date'].dt.to_period('M')\n",
    "df.head()"
   ]
  },
  {
   "cell_type": "markdown",
   "id": "b6f6e610",
   "metadata": {},
   "source": [
    "1. This dataset has 13 features and 1987 observations\n",
    "2. There are missing values age, quantity, price_per_unit, cogs, total_sale and need to be deleted\n",
    "3. Need to convert sale_date to datetime format and drop sale_time\n",
    "4. Need to convert the age and quantity data format to int\n",
    "5. No duplicate data\n",
    "6. Looking for profit from the total_sale - cogs column"
   ]
  },
  {
   "cell_type": "code",
   "execution_count": 145,
   "id": "92f4c1c7",
   "metadata": {},
   "outputs": [
    {
     "name": "stdout",
     "output_type": "stream",
     "text": [
      "<class 'pandas.core.frame.DataFrame'>\n",
      "Int64Index: 1987 entries, 0 to 1999\n",
      "Data columns (total 13 columns):\n",
      " #   Column           Non-Null Count  Dtype         \n",
      "---  ------           --------------  -----         \n",
      " 0   transactions_id  1987 non-null   int64         \n",
      " 1   sale_date        1987 non-null   datetime64[ns]\n",
      " 2   customer_id      1987 non-null   int64         \n",
      " 3   gender           1987 non-null   object        \n",
      " 4   age              1987 non-null   int64         \n",
      " 5   category         1987 non-null   object        \n",
      " 6   quantiy          1987 non-null   int64         \n",
      " 7   price_per_unit   1987 non-null   float64       \n",
      " 8   cogs             1987 non-null   float64       \n",
      " 9   total_sale       1987 non-null   float64       \n",
      " 10  profit           1987 non-null   float64       \n",
      " 11  sale_year        1987 non-null   period[A-DEC] \n",
      " 12  sale_month       1987 non-null   period[M]     \n",
      "dtypes: datetime64[ns](1), float64(4), int64(4), object(2), period[A-DEC](1), period[M](1)\n",
      "memory usage: 217.3+ KB\n"
     ]
    }
   ],
   "source": [
    "df.info()"
   ]
  },
  {
   "cell_type": "markdown",
   "id": "eb11366d",
   "metadata": {},
   "source": [
    "# Data understanding"
   ]
  },
  {
   "cell_type": "code",
   "execution_count": 146,
   "id": "50b219c0",
   "metadata": {},
   "outputs": [
    {
     "data": {
      "image/png": "[encoded data removed]",
      "text/plain": [
       "<Figure size 640x480 with 1 Axes>"
      ]
     },
     "metadata": {},
     "output_type": "display_data"
    }
   ],
   "source": [
    "# Customer Age Distribution\n",
    "sns.histplot(data=df, x='age')\n",
    "plt.title('Customer Age Distribution')\n",
    "plt.show()"
   ]
  },
  {
   "cell_type": "code",
   "execution_count": 147,
   "id": "3d6f9783",
   "metadata": {},
   "outputs": [
    {
     "data": {
      "image/png": "[encoded data removed]",
      "text/plain": [
       "<Figure size 640x480 with 1 Axes>"
      ]
     },
     "metadata": {},
     "output_type": "display_data"
    },
    {
     "data": {
      "image/png": "[encoded data removed]",
      "text/plain": [
       "<Figure size 640x480 with 1 Axes>"
      ]
     },
     "metadata": {},
     "output_type": "display_data"
    }
   ],
   "source": [
    "# Compare total sales by gender\n",
    "sns.barplot(x='gender', y='profit', data=df)\n",
    "plt.title('Compare total sales by gender')\n",
    "plt.show()\n",
    "\n",
    "# Looking at the relationship between product category and age\n",
    "sns.boxplot(x='category', y='age', data=df)\n",
    "plt.title('Age Distribution per Product Category')\n",
    "plt.show()"
   ]
  },
  {
   "cell_type": "code",
   "execution_count": 148,
   "id": "014ed385",
   "metadata": {},
   "outputs": [
    {
     "data": {
      "text/plain": [
       "<AxesSubplot:>"
      ]
     },
     "execution_count": 148,
     "metadata": {},
     "output_type": "execute_result"
    },
    {
     "data": {
      "image/png": "[encoded data removed]",
      "text/plain": [
       "<Figure size 800x600 with 2 Axes>"
      ]
     },
     "metadata": {},
     "output_type": "display_data"
    }
   ],
   "source": [
    "# correlation heatmap\n",
    "plt.figure(figsize=(8,6))\n",
    "correlation = df.corr()\n",
    "sns.heatmap(correlation, annot=True, fmt='.2f')"
   ]
  },
  {
   "cell_type": "markdown",
   "id": "ab5ca2af",
   "metadata": {},
   "source": [
    "1. Quantity and cogs There is a positive correlation between quantity and cost of goods sold, although not as strong as the correlation between price_per_unit and cogs. This shows that as more products are sold, production costs also tend to increase."
   ]
  },
  {
   "cell_type": "markdown",
   "id": "b04463cd",
   "metadata": {},
   "source": [
    "## EDA Questions\n",
    "1. Total profit company make each year?\n",
    "2. How is the trend of the number of buyers and total turnover from month to month?\n",
    "3. What product category is the biggest contributor to annual profits?\n",
    "4. Who are Top 10 Customers with the most money spend?\n",
    "5. On what day of the week do the most transactions occur\n"
   ]
  },
  {
   "cell_type": "markdown",
   "id": "5efe998c",
   "metadata": {},
   "source": [
    "### 1. Total profit company make each year?"
   ]
  },
  {
   "cell_type": "code",
   "execution_count": 149,
   "id": "9f07d22a",
   "metadata": {},
   "outputs": [
    {
     "data": {
      "text/html": [
       "<div>\n",
       "<style scoped>\n",
       "    .dataframe tbody tr th:only-of-type {\n",
       "        vertical-align: middle;\n",
       "    }\n",
       "\n",
       "    .dataframe tbody tr th {\n",
       "        vertical-align: top;\n",
       "    }\n",
       "\n",
       "    .dataframe thead th {\n",
       "        text-align: right;\n",
       "    }\n",
       "</style>\n",
       "<table border=\"1\" class=\"dataframe\">\n",
       "  <thead>\n",
       "    <tr style=\"text-align: right;\">\n",
       "      <th></th>\n",
       "      <th>sale_year</th>\n",
       "      <th>profit</th>\n",
       "    </tr>\n",
       "  </thead>\n",
       "  <tbody>\n",
       "    <tr>\n",
       "      <th>0</th>\n",
       "      <td>2022</td>\n",
       "      <td>205417.50</td>\n",
       "    </tr>\n",
       "    <tr>\n",
       "      <th>1</th>\n",
       "      <td>2023</td>\n",
       "      <td>215951.45</td>\n",
       "    </tr>\n",
       "  </tbody>\n",
       "</table>\n",
       "</div>"
      ],
      "text/plain": [
       "  sale_year     profit\n",
       "0      2022  205417.50\n",
       "1      2023  215951.45"
      ]
     },
     "metadata": {},
     "output_type": "display_data"
    }
   ],
   "source": [
    "profit_by_year = df.groupby('sale_year')['profit'].sum().reset_index()\n",
    "display(profit_by_year)"
   ]
  },
  {
   "cell_type": "markdown",
   "id": "0df67e8b",
   "metadata": {},
   "source": [
    "### 2. How is the trend of the number of buyers and total turnover from month to month?"
   ]
  },
  {
   "cell_type": "code",
   "execution_count": 150,
   "id": "5d8be987",
   "metadata": {},
   "outputs": [
    {
     "data": {
      "text/html": [
       "<div>\n",
       "<style scoped>\n",
       "    .dataframe tbody tr th:only-of-type {\n",
       "        vertical-align: middle;\n",
       "    }\n",
       "\n",
       "    .dataframe tbody tr th {\n",
       "        vertical-align: top;\n",
       "    }\n",
       "\n",
       "    .dataframe thead th {\n",
       "        text-align: right;\n",
       "    }\n",
       "</style>\n",
       "<table border=\"1\" class=\"dataframe\">\n",
       "  <thead>\n",
       "    <tr style=\"text-align: right;\">\n",
       "      <th></th>\n",
       "      <th>sale_month</th>\n",
       "      <th>num_buyer</th>\n",
       "      <th>total_omzet</th>\n",
       "    </tr>\n",
       "  </thead>\n",
       "  <tbody>\n",
       "    <tr>\n",
       "      <th>0</th>\n",
       "      <td>2022-01</td>\n",
       "      <td>49</td>\n",
       "      <td>13795.30</td>\n",
       "    </tr>\n",
       "    <tr>\n",
       "      <th>1</th>\n",
       "      <td>2022-02</td>\n",
       "      <td>38</td>\n",
       "      <td>8549.20</td>\n",
       "    </tr>\n",
       "    <tr>\n",
       "      <th>2</th>\n",
       "      <td>2022-03</td>\n",
       "      <td>41</td>\n",
       "      <td>14019.15</td>\n",
       "    </tr>\n",
       "    <tr>\n",
       "      <th>3</th>\n",
       "      <td>2022-04</td>\n",
       "      <td>45</td>\n",
       "      <td>16744.95</td>\n",
       "    </tr>\n",
       "    <tr>\n",
       "      <th>4</th>\n",
       "      <td>2022-05</td>\n",
       "      <td>43</td>\n",
       "      <td>13788.60</td>\n",
       "    </tr>\n",
       "    <tr>\n",
       "      <th>5</th>\n",
       "      <td>2022-06</td>\n",
       "      <td>38</td>\n",
       "      <td>12759.50</td>\n",
       "    </tr>\n",
       "    <tr>\n",
       "      <th>6</th>\n",
       "      <td>2022-07</td>\n",
       "      <td>39</td>\n",
       "      <td>13028.75</td>\n",
       "    </tr>\n",
       "    <tr>\n",
       "      <th>7</th>\n",
       "      <td>2022-08</td>\n",
       "      <td>47</td>\n",
       "      <td>11814.15</td>\n",
       "    </tr>\n",
       "    <tr>\n",
       "      <th>8</th>\n",
       "      <td>2022-09</td>\n",
       "      <td>84</td>\n",
       "      <td>24913.50</td>\n",
       "    </tr>\n",
       "    <tr>\n",
       "      <th>9</th>\n",
       "      <td>2022-10</td>\n",
       "      <td>87</td>\n",
       "      <td>19022.70</td>\n",
       "    </tr>\n",
       "    <tr>\n",
       "      <th>10</th>\n",
       "      <td>2022-11</td>\n",
       "      <td>94</td>\n",
       "      <td>27966.45</td>\n",
       "    </tr>\n",
       "    <tr>\n",
       "      <th>11</th>\n",
       "      <td>2022-12</td>\n",
       "      <td>82</td>\n",
       "      <td>29015.25</td>\n",
       "    </tr>\n",
       "    <tr>\n",
       "      <th>12</th>\n",
       "      <td>2023-01</td>\n",
       "      <td>36</td>\n",
       "      <td>13995.30</td>\n",
       "    </tr>\n",
       "    <tr>\n",
       "      <th>13</th>\n",
       "      <td>2023-02</td>\n",
       "      <td>27</td>\n",
       "      <td>14853.30</td>\n",
       "    </tr>\n",
       "    <tr>\n",
       "      <th>14</th>\n",
       "      <td>2023-03</td>\n",
       "      <td>27</td>\n",
       "      <td>11949.40</td>\n",
       "    </tr>\n",
       "    <tr>\n",
       "      <th>15</th>\n",
       "      <td>2023-04</td>\n",
       "      <td>28</td>\n",
       "      <td>13329.80</td>\n",
       "    </tr>\n",
       "    <tr>\n",
       "      <th>16</th>\n",
       "      <td>2023-05</td>\n",
       "      <td>31</td>\n",
       "      <td>16157.10</td>\n",
       "    </tr>\n",
       "    <tr>\n",
       "      <th>17</th>\n",
       "      <td>2023-06</td>\n",
       "      <td>30</td>\n",
       "      <td>14973.45</td>\n",
       "    </tr>\n",
       "    <tr>\n",
       "      <th>18</th>\n",
       "      <td>2023-07</td>\n",
       "      <td>42</td>\n",
       "      <td>21210.65</td>\n",
       "    </tr>\n",
       "    <tr>\n",
       "      <th>19</th>\n",
       "      <td>2023-08</td>\n",
       "      <td>32</td>\n",
       "      <td>16313.75</td>\n",
       "    </tr>\n",
       "    <tr>\n",
       "      <th>20</th>\n",
       "      <td>2023-09</td>\n",
       "      <td>78</td>\n",
       "      <td>25703.15</td>\n",
       "    </tr>\n",
       "    <tr>\n",
       "      <th>21</th>\n",
       "      <td>2023-10</td>\n",
       "      <td>78</td>\n",
       "      <td>17561.65</td>\n",
       "    </tr>\n",
       "    <tr>\n",
       "      <th>22</th>\n",
       "      <td>2023-11</td>\n",
       "      <td>67</td>\n",
       "      <td>21751.75</td>\n",
       "    </tr>\n",
       "    <tr>\n",
       "      <th>23</th>\n",
       "      <td>2023-12</td>\n",
       "      <td>70</td>\n",
       "      <td>28152.15</td>\n",
       "    </tr>\n",
       "  </tbody>\n",
       "</table>\n",
       "</div>"
      ],
      "text/plain": [
       "   sale_month  num_buyer  total_omzet\n",
       "0     2022-01         49     13795.30\n",
       "1     2022-02         38      8549.20\n",
       "2     2022-03         41     14019.15\n",
       "3     2022-04         45     16744.95\n",
       "4     2022-05         43     13788.60\n",
       "5     2022-06         38     12759.50\n",
       "6     2022-07         39     13028.75\n",
       "7     2022-08         47     11814.15\n",
       "8     2022-09         84     24913.50\n",
       "9     2022-10         87     19022.70\n",
       "10    2022-11         94     27966.45\n",
       "11    2022-12         82     29015.25\n",
       "12    2023-01         36     13995.30\n",
       "13    2023-02         27     14853.30\n",
       "14    2023-03         27     11949.40\n",
       "15    2023-04         28     13329.80\n",
       "16    2023-05         31     16157.10\n",
       "17    2023-06         30     14973.45\n",
       "18    2023-07         42     21210.65\n",
       "19    2023-08         32     16313.75\n",
       "20    2023-09         78     25703.15\n",
       "21    2023-10         78     17561.65\n",
       "22    2023-11         67     21751.75\n",
       "23    2023-12         70     28152.15"
      ]
     },
     "execution_count": 150,
     "metadata": {},
     "output_type": "execute_result"
    }
   ],
   "source": [
    "monthly_data = (df\n",
    "                .groupby('sale_month')\n",
    "                .agg(num_buyer=('customer_id','nunique'),\n",
    "                     total_omzet=('profit','sum'))\n",
    "                .reset_index())\n",
    "\n",
    "monthly_data['sale_month'] = monthly_data['sale_month'].astype(str) \n",
    "monthly_data"
   ]
  },
  {
   "cell_type": "code",
   "execution_count": 151,
   "id": "8ba35318",
   "metadata": {},
   "outputs": [
    {
     "data": {
      "image/png": "[encoded data removed]",
      "text/plain": [
       "<Figure size 800x400 with 1 Axes>"
      ]
     },
     "metadata": {},
     "output_type": "display_data"
    }
   ],
   "source": [
    "plt.figure(figsize=(8,4))\n",
    "df.groupby('sale_month')['profit'].sum().plot()\n",
    "plt.title('Sales over time')\n",
    "plt.xlabel('profit')\n",
    "plt.ylabel('sale_month')\n",
    "plt.grid(True)\n",
    "plt.show()"
   ]
  },
  {
   "cell_type": "markdown",
   "id": "81c513b0",
   "metadata": {},
   "source": [
    "### 3. What product category is the biggest contributor to annual profits?"
   ]
  },
  {
   "cell_type": "code",
   "execution_count": 152,
   "id": "1b82904a",
   "metadata": {},
   "outputs": [
    {
     "data": {
      "text/html": [
       "<div>\n",
       "<style scoped>\n",
       "    .dataframe tbody tr th:only-of-type {\n",
       "        vertical-align: middle;\n",
       "    }\n",
       "\n",
       "    .dataframe tbody tr th {\n",
       "        vertical-align: top;\n",
       "    }\n",
       "\n",
       "    .dataframe thead th {\n",
       "        text-align: right;\n",
       "    }\n",
       "</style>\n",
       "<table border=\"1\" class=\"dataframe\">\n",
       "  <thead>\n",
       "    <tr style=\"text-align: right;\">\n",
       "      <th></th>\n",
       "      <th>sale_year</th>\n",
       "      <th>category</th>\n",
       "      <th>profit</th>\n",
       "    </tr>\n",
       "  </thead>\n",
       "  <tbody>\n",
       "    <tr>\n",
       "      <th>4</th>\n",
       "      <td>2023</td>\n",
       "      <td>Clothing</td>\n",
       "      <td>75174.70</td>\n",
       "    </tr>\n",
       "    <tr>\n",
       "      <th>5</th>\n",
       "      <td>2023</td>\n",
       "      <td>Electronics</td>\n",
       "      <td>71894.40</td>\n",
       "    </tr>\n",
       "    <tr>\n",
       "      <th>3</th>\n",
       "      <td>2023</td>\n",
       "      <td>Beauty</td>\n",
       "      <td>68882.35</td>\n",
       "    </tr>\n",
       "    <tr>\n",
       "      <th>2</th>\n",
       "      <td>2022</td>\n",
       "      <td>Electronics</td>\n",
       "      <td>68796.45</td>\n",
       "    </tr>\n",
       "    <tr>\n",
       "      <th>0</th>\n",
       "      <td>2022</td>\n",
       "      <td>Beauty</td>\n",
       "      <td>68559.45</td>\n",
       "    </tr>\n",
       "    <tr>\n",
       "      <th>1</th>\n",
       "      <td>2022</td>\n",
       "      <td>Clothing</td>\n",
       "      <td>68061.60</td>\n",
       "    </tr>\n",
       "  </tbody>\n",
       "</table>\n",
       "</div>"
      ],
      "text/plain": [
       "  sale_year     category    profit\n",
       "4      2023     Clothing  75174.70\n",
       "5      2023  Electronics  71894.40\n",
       "3      2023       Beauty  68882.35\n",
       "2      2022  Electronics  68796.45\n",
       "0      2022       Beauty  68559.45\n",
       "1      2022     Clothing  68061.60"
      ]
     },
     "metadata": {},
     "output_type": "display_data"
    }
   ],
   "source": [
    "profit_by_year_category = (\n",
    "    df.groupby(['sale_year', 'category'])['profit']\n",
    "    .sum()\n",
    "    .reset_index()\n",
    "    .sort_values(by='profit', ascending=False)\n",
    ")\n",
    "display(profit_by_year_category)"
   ]
  },
  {
   "cell_type": "code",
   "execution_count": 21,
   "id": "12877aad",
   "metadata": {},
   "outputs": [
    {
     "data": {
      "text/html": [
       "<div>\n",
       "<style scoped>\n",
       "    .dataframe tbody tr th:only-of-type {\n",
       "        vertical-align: middle;\n",
       "    }\n",
       "\n",
       "    .dataframe tbody tr th {\n",
       "        vertical-align: top;\n",
       "    }\n",
       "\n",
       "    .dataframe thead th {\n",
       "        text-align: right;\n",
       "    }\n",
       "</style>\n",
       "<table border=\"1\" class=\"dataframe\">\n",
       "  <thead>\n",
       "    <tr style=\"text-align: right;\">\n",
       "      <th></th>\n",
       "      <th>category</th>\n",
       "      <th>profit</th>\n",
       "    </tr>\n",
       "  </thead>\n",
       "  <tbody>\n",
       "    <tr>\n",
       "      <th>1</th>\n",
       "      <td>Clothing</td>\n",
       "      <td>143236.30</td>\n",
       "    </tr>\n",
       "    <tr>\n",
       "      <th>2</th>\n",
       "      <td>Electronics</td>\n",
       "      <td>140690.85</td>\n",
       "    </tr>\n",
       "    <tr>\n",
       "      <th>0</th>\n",
       "      <td>Beauty</td>\n",
       "      <td>137441.80</td>\n",
       "    </tr>\n",
       "  </tbody>\n",
       "</table>\n",
       "</div>"
      ],
      "text/plain": [
       "      category     profit\n",
       "1     Clothing  143236.30\n",
       "2  Electronics  140690.85\n",
       "0       Beauty  137441.80"
      ]
     },
     "metadata": {},
     "output_type": "display_data"
    }
   ],
   "source": [
    "profit_by_category = (\n",
    "    df.groupby('category')['profit']\n",
    "    .sum()\n",
    "    .reset_index()\n",
    "    .sort_values(by='profit', ascending=False)\n",
    "    \n",
    ")\n",
    "display(profit_by_category)"
   ]
  },
  {
   "cell_type": "code",
   "execution_count": 22,
   "id": "0b0c955f",
   "metadata": {},
   "outputs": [
    {
     "data": {
      "image/png": "[encoded data removed]",
      "text/plain": [
       "<Figure size 600x400 with 1 Axes>"
      ]
     },
     "metadata": {},
     "output_type": "display_data"
    }
   ],
   "source": [
    "plt.figure(figsize=(6, 4))\n",
    "plt.bar(profit_by_category['category'], profit_by_category['profit'])\n",
    "plt.xlabel('Category')\n",
    "plt.ylabel('Profit')\n",
    "plt.title('Profit by Category')\n",
    "plt.show()"
   ]
  },
  {
   "cell_type": "markdown",
   "id": "1e029c11",
   "metadata": {},
   "source": [
    "### 4. Who are Top 10 Customers with the most money spend ?"
   ]
  },
  {
   "cell_type": "code",
   "execution_count": 23,
   "id": "4395e9ae",
   "metadata": {},
   "outputs": [
    {
     "data": {
      "text/html": [
       "<div>\n",
       "<style scoped>\n",
       "    .dataframe tbody tr th:only-of-type {\n",
       "        vertical-align: middle;\n",
       "    }\n",
       "\n",
       "    .dataframe tbody tr th {\n",
       "        vertical-align: top;\n",
       "    }\n",
       "\n",
       "    .dataframe thead th {\n",
       "        text-align: right;\n",
       "    }\n",
       "</style>\n",
       "<table border=\"1\" class=\"dataframe\">\n",
       "  <thead>\n",
       "    <tr style=\"text-align: right;\">\n",
       "      <th></th>\n",
       "      <th>customer_id</th>\n",
       "      <th>total_spend</th>\n",
       "    </tr>\n",
       "  </thead>\n",
       "  <tbody>\n",
       "    <tr>\n",
       "      <th>2</th>\n",
       "      <td>3</td>\n",
       "      <td>23366.05</td>\n",
       "    </tr>\n",
       "    <tr>\n",
       "      <th>0</th>\n",
       "      <td>1</td>\n",
       "      <td>18401.30</td>\n",
       "    </tr>\n",
       "    <tr>\n",
       "      <th>4</th>\n",
       "      <td>5</td>\n",
       "      <td>18267.70</td>\n",
       "    </tr>\n",
       "    <tr>\n",
       "      <th>1</th>\n",
       "      <td>2</td>\n",
       "      <td>14676.25</td>\n",
       "    </tr>\n",
       "    <tr>\n",
       "      <th>3</th>\n",
       "      <td>4</td>\n",
       "      <td>13360.95</td>\n",
       "    </tr>\n",
       "    <tr>\n",
       "      <th>86</th>\n",
       "      <td>87</td>\n",
       "      <td>7897.55</td>\n",
       "    </tr>\n",
       "    <tr>\n",
       "      <th>53</th>\n",
       "      <td>54</td>\n",
       "      <td>6294.65</td>\n",
       "    </tr>\n",
       "    <tr>\n",
       "      <th>110</th>\n",
       "      <td>111</td>\n",
       "      <td>5888.35</td>\n",
       "    </tr>\n",
       "    <tr>\n",
       "      <th>54</th>\n",
       "      <td>55</td>\n",
       "      <td>5822.00</td>\n",
       "    </tr>\n",
       "    <tr>\n",
       "      <th>60</th>\n",
       "      <td>61</td>\n",
       "      <td>5326.45</td>\n",
       "    </tr>\n",
       "  </tbody>\n",
       "</table>\n",
       "</div>"
      ],
      "text/plain": [
       "     customer_id  total_spend\n",
       "2              3     23366.05\n",
       "0              1     18401.30\n",
       "4              5     18267.70\n",
       "1              2     14676.25\n",
       "3              4     13360.95\n",
       "86            87      7897.55\n",
       "53            54      6294.65\n",
       "110          111      5888.35\n",
       "54            55      5822.00\n",
       "60            61      5326.45"
      ]
     },
     "execution_count": 23,
     "metadata": {},
     "output_type": "execute_result"
    }
   ],
   "source": [
    "top10_cust = (df\n",
    "            .groupby('customer_id')\n",
    "            .agg(total_spend=('profit','sum'))\n",
    "            .reset_index()\n",
    "            .sort_values('total_spend',ascending=False)\n",
    "            .head(10)\n",
    "            )\n",
    "\n",
    "top10_cust"
   ]
  },
  {
   "cell_type": "code",
   "execution_count": 24,
   "id": "29dba2cb",
   "metadata": {},
   "outputs": [
    {
     "data": {
      "image/png": "[encoded data removed]",
      "text/plain": [
       "<Figure size 800x600 with 1 Axes>"
      ]
     },
     "metadata": {},
     "output_type": "display_data"
    }
   ],
   "source": [
    "plt.figure(figsize=(8,6))\n",
    "top10_cust['customer_id'] = top10_cust['customer_id'].astype(str)\n",
    "sns.barplot(data=top10_cust, x='customer_id', y='total_spend')\n",
    "plt.show()"
   ]
  },
  {
   "cell_type": "markdown",
   "id": "2c1947ce",
   "metadata": {},
   "source": [
    "### 5. On what day of the week do the most transactions occur? ?"
   ]
  },
  {
   "cell_type": "code",
   "execution_count": 128,
   "id": "d2ac90b0",
   "metadata": {},
   "outputs": [
    {
     "name": "stdout",
     "output_type": "stream",
     "text": [
      "Days with the most transactions: Sunday\n"
     ]
    },
    {
     "data": {
      "image/png": "[encoded data removed]",
      "text/plain": [
       "<Figure size 640x480 with 1 Axes>"
      ]
     },
     "metadata": {},
     "output_type": "display_data"
    }
   ],
   "source": [
    "# Extract days of the week\n",
    "df['day_of_week'] = df['sale_date'].dt.day_name()\n",
    "\n",
    "# Calculate the number of transactions per day\n",
    "transactions_per_day = df['day_of_week'].value_counts()\n",
    "\n",
    "# Look for days with the most transactions\n",
    "busiest_day = transactions_per_day.idxmax()\n",
    "\n",
    "print(\"Days with the most transactions:\", busiest_day)\n",
    "\n",
    "transactions_per_day.plot(kind='bar')\n",
    "plt.title('Number of Transactions per Day')\n",
    "plt.xlabel('Day')\n",
    "plt.ylabel('Number of Transactions')\n",
    "plt.show()"
   ]
  },
  {
   "cell_type": "markdown",
   "id": "00c7d334",
   "metadata": {},
   "source": [
    "## Conclusion\n",
    "- Data analysis shows that the company has succeeded in increasing its profitability consistently from year to year. A clear seasonal pattern is visible with a significant increase in sales in the fourth quarter of each year, indicating the existence of seasonal factors that influence sales performance.\n",
    "- The clothing category is the backbone of the company's profitability, followed by the electronics and beauty categories. However, there is potential to increase contributions from other categories.\n",
    "- The largest customers make a very significant contribution to the company's total sales. This shows the importance of maintaining and improving relationships with key customers.\n",
    "- Sunday is the day with the highest transactions, but the distribution of transactions is quite even throughout the week. This indicates that the company needs to maintain consistent service on all days."
   ]
  },
  {
   "cell_type": "markdown",
   "id": "8e08fe1c",
   "metadata": {},
   "source": [
    "## Recommendation\n",
    "- Expand product portfolio, especially in the electronics and beauty categories, to increase revenue sources and attract new customers.\n",
    "- Implement more personalized and targeted marketing strategies, both online and offline, to increase customer engagement and encourage purchases.\n",
    "- Present an attractive loyalty program to retain loyal customers and encourage repeat purchases\n",
    "- Don't just focus on quarter 4. Plan exciting promotions throughout the year to maintain customer interest and level sales."
   ]
  }
 ],
 "metadata": {
  "kernelspec": {
   "display_name": "Python 3 (ipykernel)",
   "language": "python",
   "name": "python3"
  },
  "language_info": {
   "codemirror_mode": {
    "name": "ipython",
    "version": 3
   },
   "file_extension": ".py",
   "mimetype": "text/x-python",
   "name": "python",
   "nbconvert_exporter": "python",
   "pygments_lexer": "ipython3",
   "version": "3.9.13"
  }
 },
 "nbformat": 4,
 "nbformat_minor": 5
}
